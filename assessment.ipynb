{
 "cells": [
  {
   "cell_type": "markdown",
   "source": [],
   "metadata": {
    "collapsed": false,
    "pycharm": {
     "name": "#%% md\n"
    }
   }
  },
  {
   "cell_type": "markdown",
   "source": [
    "# A press request for Mapping Police Violence\n",
    "We occasionally get press requests which require quick analyses of our data. Here is an example of a real request we got: “I am working on a story about police traffic stops. We were wondering if Mapping Police Violence happens to have data on the number of civilian deaths that occur during traffic stops each year.”\n",
    "\n",
    "Mapping Police Violence (MPV) is a public dataset that CZ runs that tracks lives lost during police encounters in the US and compiles information around the circumstances of these incidents.\n",
    "\n",
    "Trigger warning: this data contains demographic information about the civilians killed and information about the manner in which they were killed. The circumstances field contains brief descriptions of the incidents, some of which are graphic in detail."
   ],
   "metadata": {
    "collapsed": false,
    "pycharm": {
     "name": "#%% md\n"
    }
   }
  },
  {
   "cell_type": "markdown",
   "source": [
    "# Part 0 - Load Data"
   ],
   "metadata": {
    "collapsed": false,
    "pycharm": {
     "name": "#%% md\n"
    }
   }
  },
  {
   "cell_type": "code",
   "execution_count": 339,
   "outputs": [
    {
     "name": "stdout",
     "output_type": "stream",
     "text": [
      "(10345, 68)\n"
     ]
    },
    {
     "data": {
      "text/plain": "                    name   age gender   race        date  \\\n0          Joseph Fuller  24.0   Male  White  2015-07-21   \n1         Shane K. Jones  38.0   Male  Black  2020-11-16   \n2  John Ethan Carpentier  26.0   Male  White  2016-09-27   \n3        Mickee McArthur  28.0   Male  Black  2020-11-30   \n4              Mark Bess  33.0   Male  White  2016-04-30   \n\n                 street_address          city state       zip    county  ...  \\\n0               1300 NE 50th Ct  Oakland Park    FL   33334.0   Broward  ...   \n1               161 SW 19th Ct.   Dania Beach    FL  330004.0   Broward  ...   \n2              20838 N 19th Ave      Phoenix     AZ   85027.0  Maricopa  ...   \n3  N. 9th Ave. and Langley Ave.    Ferry Pass    FL   32504.0  Escambia  ...   \n4                 4500 S 3200 W  Spanish Fork    UT   84660.0      Utah  ...   \n\n  prosecutor_gender prosecutor_special prosecutor_url prosecutor_in_court  \\\n0               NaN                NaN            NaN                 NaN   \n1               NaN                NaN            NaN                 NaN   \n2               NaN                NaN            NaN                 NaN   \n3               NaN                NaN            NaN                 NaN   \n4               NaN                NaN            NaN                 NaN   \n\n  possible_suicide alert_ids prosecutor_party prosecutor_term  \\\n0              NaN       NaN              NaN             NaN   \n1              NaN       NaN              NaN             NaN   \n2              NaN       NaN              NaN             NaN   \n3              NaN       NaN              NaN             NaN   \n4              NaN       NaN              NaN             NaN   \n\n  independent_investigation officer_race_inferred  \n0                       NaN                   NaN  \n1                       NaN                   NaN  \n2                       NaN                   NaN  \n3                       NaN                   NaN  \n4                       NaN                   NaN  \n\n[5 rows x 68 columns]",
      "text/html": "<div>\n<style scoped>\n    .dataframe tbody tr th:only-of-type {\n        vertical-align: middle;\n    }\n\n    .dataframe tbody tr th {\n        vertical-align: top;\n    }\n\n    .dataframe thead th {\n        text-align: right;\n    }\n</style>\n<table border=\"1\" class=\"dataframe\">\n  <thead>\n    <tr style=\"text-align: right;\">\n      <th></th>\n      <th>name</th>\n      <th>age</th>\n      <th>gender</th>\n      <th>race</th>\n      <th>date</th>\n      <th>street_address</th>\n      <th>city</th>\n      <th>state</th>\n      <th>zip</th>\n      <th>county</th>\n      <th>...</th>\n      <th>prosecutor_gender</th>\n      <th>prosecutor_special</th>\n      <th>prosecutor_url</th>\n      <th>prosecutor_in_court</th>\n      <th>possible_suicide</th>\n      <th>alert_ids</th>\n      <th>prosecutor_party</th>\n      <th>prosecutor_term</th>\n      <th>independent_investigation</th>\n      <th>officer_race_inferred</th>\n    </tr>\n  </thead>\n  <tbody>\n    <tr>\n      <th>0</th>\n      <td>Joseph Fuller</td>\n      <td>24.0</td>\n      <td>Male</td>\n      <td>White</td>\n      <td>2015-07-21</td>\n      <td>1300 NE 50th Ct</td>\n      <td>Oakland Park</td>\n      <td>FL</td>\n      <td>33334.0</td>\n      <td>Broward</td>\n      <td>...</td>\n      <td>NaN</td>\n      <td>NaN</td>\n      <td>NaN</td>\n      <td>NaN</td>\n      <td>NaN</td>\n      <td>NaN</td>\n      <td>NaN</td>\n      <td>NaN</td>\n      <td>NaN</td>\n      <td>NaN</td>\n    </tr>\n    <tr>\n      <th>1</th>\n      <td>Shane K. Jones</td>\n      <td>38.0</td>\n      <td>Male</td>\n      <td>Black</td>\n      <td>2020-11-16</td>\n      <td>161 SW 19th Ct.</td>\n      <td>Dania Beach</td>\n      <td>FL</td>\n      <td>330004.0</td>\n      <td>Broward</td>\n      <td>...</td>\n      <td>NaN</td>\n      <td>NaN</td>\n      <td>NaN</td>\n      <td>NaN</td>\n      <td>NaN</td>\n      <td>NaN</td>\n      <td>NaN</td>\n      <td>NaN</td>\n      <td>NaN</td>\n      <td>NaN</td>\n    </tr>\n    <tr>\n      <th>2</th>\n      <td>John Ethan Carpentier</td>\n      <td>26.0</td>\n      <td>Male</td>\n      <td>White</td>\n      <td>2016-09-27</td>\n      <td>20838 N 19th Ave</td>\n      <td>Phoenix</td>\n      <td>AZ</td>\n      <td>85027.0</td>\n      <td>Maricopa</td>\n      <td>...</td>\n      <td>NaN</td>\n      <td>NaN</td>\n      <td>NaN</td>\n      <td>NaN</td>\n      <td>NaN</td>\n      <td>NaN</td>\n      <td>NaN</td>\n      <td>NaN</td>\n      <td>NaN</td>\n      <td>NaN</td>\n    </tr>\n    <tr>\n      <th>3</th>\n      <td>Mickee McArthur</td>\n      <td>28.0</td>\n      <td>Male</td>\n      <td>Black</td>\n      <td>2020-11-30</td>\n      <td>N. 9th Ave. and Langley Ave.</td>\n      <td>Ferry Pass</td>\n      <td>FL</td>\n      <td>32504.0</td>\n      <td>Escambia</td>\n      <td>...</td>\n      <td>NaN</td>\n      <td>NaN</td>\n      <td>NaN</td>\n      <td>NaN</td>\n      <td>NaN</td>\n      <td>NaN</td>\n      <td>NaN</td>\n      <td>NaN</td>\n      <td>NaN</td>\n      <td>NaN</td>\n    </tr>\n    <tr>\n      <th>4</th>\n      <td>Mark Bess</td>\n      <td>33.0</td>\n      <td>Male</td>\n      <td>White</td>\n      <td>2016-04-30</td>\n      <td>4500 S 3200 W</td>\n      <td>Spanish Fork</td>\n      <td>UT</td>\n      <td>84660.0</td>\n      <td>Utah</td>\n      <td>...</td>\n      <td>NaN</td>\n      <td>NaN</td>\n      <td>NaN</td>\n      <td>NaN</td>\n      <td>NaN</td>\n      <td>NaN</td>\n      <td>NaN</td>\n      <td>NaN</td>\n      <td>NaN</td>\n      <td>NaN</td>\n    </tr>\n  </tbody>\n</table>\n<p>5 rows × 68 columns</p>\n</div>"
     },
     "execution_count": 339,
     "metadata": {},
     "output_type": "execute_result"
    }
   ],
   "source": [
    "import pandas as pd\n",
    "import numpy as np\n",
    "police_killings = pd.read_csv(\"police_killings.csv\", low_memory=False)\n",
    "print(police_killings.shape)\n",
    "police_killings.head()"
   ],
   "metadata": {
    "collapsed": false,
    "pycharm": {
     "name": "#%%\n"
    }
   }
  },
  {
   "cell_type": "code",
   "execution_count": 340,
   "outputs": [
    {
     "data": {
      "text/plain": "name                         Joseph Fuller\nage                                   24.0\ngender                                Male\nrace                                 White\ndate                            2015-07-21\n                                 ...      \nalert_ids                              NaN\nprosecutor_party                       NaN\nprosecutor_term                        NaN\nindependent_investigation              NaN\nofficer_race_inferred                  NaN\nName: 0, Length: 68, dtype: object"
     },
     "execution_count": 340,
     "metadata": {},
     "output_type": "execute_result"
    }
   ],
   "source": [
    "police_killings.loc[0]"
   ],
   "metadata": {
    "collapsed": false,
    "pycharm": {
     "name": "#%%\n"
    }
   }
  },
  {
   "cell_type": "markdown",
   "source": [
    "## Part 1\n",
    "\n",
    "The police_killings.csv file provided to you contains a snapshot of this data. Each row corresponds to one victim from one incident. This file includes both the finalized data that we’ve made public, and internal-only, incomplete data that is in the process of being populated before we publish it. See codebook.pdf for a comprehensive list of each field and its explanation.\n",
    "\n",
    "\n",
    "#### How many traffic stop-involved police killings (TSPKs) are there in total?"
   ],
   "metadata": {
    "collapsed": false,
    "pycharm": {
     "name": "#%% md\n"
    }
   }
  },
  {
   "cell_type": "code",
   "execution_count": 341,
   "outputs": [
    {
     "name": "stdout",
     "output_type": "stream",
     "text": [
      "TSPKs = 644\n"
     ]
    }
   ],
   "source": [
    "# TSPKs in total\n",
    "options = ['Traffic Stop', 'Traffic Stop/Other Non-Violent Offense']\n",
    "tspks = pd.DataFrame(police_killings[police_killings['encounter_type'].isin(options)])\n",
    "print('TSPKs =', len(tspks))\n",
    "# response time: 10 min"
   ],
   "metadata": {
    "collapsed": false,
    "pycharm": {
     "name": "#%%\n"
    }
   }
  },
  {
   "cell_type": "markdown",
   "source": [
    "#### What proportion of all police killings do TSPKs comprise?"
   ],
   "metadata": {
    "collapsed": false,
    "pycharm": {
     "name": "#%% md\n"
    }
   }
  },
  {
   "cell_type": "code",
   "execution_count": 342,
   "outputs": [
    {
     "name": "stdout",
     "output_type": "stream",
     "text": [
      "Proportion TSPKs/PoliceKillings = 6.23%\n"
     ]
    }
   ],
   "source": [
    "proportion_tspks = len(tspks) / len(police_killings)\n",
    "print('Proportion TSPKs/PoliceKillings =', \"{0:.2%}\".format(proportion_tspks))\n",
    "# response time: 5 min"
   ],
   "metadata": {
    "collapsed": false,
    "pycharm": {
     "name": "#%%\n"
    }
   }
  },
  {
   "cell_type": "markdown",
   "source": [
    "#### Briefly describe how you arrived at these numbers and explain any decisions you made in the process.\n",
    "\n",
    "To determine the numbers I first filtered the 'encounter_type' column for 'Traffic Stop' and 'Traffic Stop/Other Non-Violent Offense'. The length of this dataset would correspond to the TSPKs. To find the proportion I have divided the TSPKs by the total length of the dataset 'police_killings'\n",
    "\n",
    "Response time: 5 min"
   ],
   "metadata": {
    "collapsed": false,
    "pycharm": {
     "name": "#%% md\n"
    }
   }
  },
  {
   "cell_type": "markdown",
   "source": [
    "## Part 2\n",
    "\n",
    "#### What is the total number of incidents each year?"
   ],
   "metadata": {
    "collapsed": false,
    "pycharm": {
     "name": "#%% md\n"
    }
   }
  },
  {
   "cell_type": "code",
   "execution_count": 343,
   "outputs": [
    {
     "data": {
      "text/plain": "   year  # incidents\n0  2017          101\n1  2018          123\n2  2019          130\n3  2020          131\n4  2021          131\n5  2022           28",
      "text/html": "<div>\n<style scoped>\n    .dataframe tbody tr th:only-of-type {\n        vertical-align: middle;\n    }\n\n    .dataframe tbody tr th {\n        vertical-align: top;\n    }\n\n    .dataframe thead th {\n        text-align: right;\n    }\n</style>\n<table border=\"1\" class=\"dataframe\">\n  <thead>\n    <tr style=\"text-align: right;\">\n      <th></th>\n      <th>year</th>\n      <th># incidents</th>\n    </tr>\n  </thead>\n  <tbody>\n    <tr>\n      <th>0</th>\n      <td>2017</td>\n      <td>101</td>\n    </tr>\n    <tr>\n      <th>1</th>\n      <td>2018</td>\n      <td>123</td>\n    </tr>\n    <tr>\n      <th>2</th>\n      <td>2019</td>\n      <td>130</td>\n    </tr>\n    <tr>\n      <th>3</th>\n      <td>2020</td>\n      <td>131</td>\n    </tr>\n    <tr>\n      <th>4</th>\n      <td>2021</td>\n      <td>131</td>\n    </tr>\n    <tr>\n      <th>5</th>\n      <td>2022</td>\n      <td>28</td>\n    </tr>\n  </tbody>\n</table>\n</div>"
     },
     "execution_count": 343,
     "metadata": {},
     "output_type": "execute_result"
    }
   ],
   "source": [
    "tspks['date'] = pd.to_datetime(tspks['date'])\n",
    "incidents_by_year = tspks.groupby([tspks['date'].dt.year])['name'].count().reset_index()\n",
    "incidents_by_year = incidents_by_year.rename(columns={'date': 'year', 'name': '# incidents'})\n",
    "incidents_by_year\n",
    "\n",
    "# response time: 10 min\n",
    "# resource:  https://pandas.pydata.org/docs/reference/api/pandas.DataFrame.groupby.html"
   ],
   "metadata": {
    "collapsed": false,
    "pycharm": {
     "name": "#%%\n"
    }
   }
  },
  {
   "cell_type": "markdown",
   "source": [
    "#### How do TSPKs break down by race?"
   ],
   "metadata": {
    "collapsed": false,
    "pycharm": {
     "name": "#%% md\n"
    }
   }
  },
  {
   "cell_type": "code",
   "execution_count": 344,
   "outputs": [
    {
     "data": {
      "text/plain": "               race  # incidents\n0             Asian           10\n1             Black          183\n2          Hispanic          101\n3   Native American           13\n4  Pacific Islander            6\n5      Unknown race           71\n6             White          253",
      "text/html": "<div>\n<style scoped>\n    .dataframe tbody tr th:only-of-type {\n        vertical-align: middle;\n    }\n\n    .dataframe tbody tr th {\n        vertical-align: top;\n    }\n\n    .dataframe thead th {\n        text-align: right;\n    }\n</style>\n<table border=\"1\" class=\"dataframe\">\n  <thead>\n    <tr style=\"text-align: right;\">\n      <th></th>\n      <th>race</th>\n      <th># incidents</th>\n    </tr>\n  </thead>\n  <tbody>\n    <tr>\n      <th>0</th>\n      <td>Asian</td>\n      <td>10</td>\n    </tr>\n    <tr>\n      <th>1</th>\n      <td>Black</td>\n      <td>183</td>\n    </tr>\n    <tr>\n      <th>2</th>\n      <td>Hispanic</td>\n      <td>101</td>\n    </tr>\n    <tr>\n      <th>3</th>\n      <td>Native American</td>\n      <td>13</td>\n    </tr>\n    <tr>\n      <th>4</th>\n      <td>Pacific Islander</td>\n      <td>6</td>\n    </tr>\n    <tr>\n      <th>5</th>\n      <td>Unknown race</td>\n      <td>71</td>\n    </tr>\n    <tr>\n      <th>6</th>\n      <td>White</td>\n      <td>253</td>\n    </tr>\n  </tbody>\n</table>\n</div>"
     },
     "execution_count": 344,
     "metadata": {},
     "output_type": "execute_result"
    }
   ],
   "source": [
    "tspks_by_race = tspks.groupby(tspks['race'])['name'].count().reset_index()\n",
    "tspks_by_race = tspks_by_race.rename(columns={ 'name': '# incidents'})\n",
    "tspks_by_race\n",
    "\n",
    "# response time: 10 min"
   ],
   "metadata": {
    "collapsed": false,
    "pycharm": {
     "name": "#%%\n"
    }
   }
  },
  {
   "cell_type": "markdown",
   "source": [
    "#### What are the top 3 agencies responsible for the most TSPKs, and how many TSPKs are each responsible for?"
   ],
   "metadata": {
    "collapsed": false,
    "pycharm": {
     "name": "#%% md\n"
    }
   }
  },
  {
   "cell_type": "code",
   "execution_count": 345,
   "outputs": [
    {
     "data": {
      "text/plain": "                          agency_responsible  # incidents\n106                California Highway Patrol            9\n257  Los Angeles County Sheriff's Department            8\n65       Arizona Department of Public Safety            7",
      "text/html": "<div>\n<style scoped>\n    .dataframe tbody tr th:only-of-type {\n        vertical-align: middle;\n    }\n\n    .dataframe tbody tr th {\n        vertical-align: top;\n    }\n\n    .dataframe thead th {\n        text-align: right;\n    }\n</style>\n<table border=\"1\" class=\"dataframe\">\n  <thead>\n    <tr style=\"text-align: right;\">\n      <th></th>\n      <th>agency_responsible</th>\n      <th># incidents</th>\n    </tr>\n  </thead>\n  <tbody>\n    <tr>\n      <th>106</th>\n      <td>California Highway Patrol</td>\n      <td>9</td>\n    </tr>\n    <tr>\n      <th>257</th>\n      <td>Los Angeles County Sheriff's Department</td>\n      <td>8</td>\n    </tr>\n    <tr>\n      <th>65</th>\n      <td>Arizona Department of Public Safety</td>\n      <td>7</td>\n    </tr>\n  </tbody>\n</table>\n</div>"
     },
     "execution_count": 345,
     "metadata": {},
     "output_type": "execute_result"
    }
   ],
   "source": [
    "top_agencies = tspks.groupby(tspks['agency_responsible'])['name'].count().reset_index()\n",
    "top_agencies = top_agencies.rename(columns={ 'name': '# incidents'}).sort_values(by='# incidents', ascending=False)\n",
    "top_agencies.iloc[:3]\n",
    "\n",
    "# response time: 10 min\n",
    "# resource: https://pandas.pydata.org/docs/reference/api/pandas.DataFrame.sort_values.html"
   ],
   "metadata": {
    "collapsed": false,
    "pycharm": {
     "name": "#%%\n"
    }
   }
  },
  {
   "cell_type": "markdown",
   "source": [
    "## Part 3\n",
    "To prepare to launch a campaign on TSPKs, the front-end developers need 2 tables:\n",
    "* For every state, the absolute number of TSPKs, broken down by race as well as the total for all races.\n",
    "* The same table, but with TSPKs per capita instead of absolute numbers.\n",
    "\n",
    "a. Create the two tables as tspk_abs.csv and tspk_percap.csv.\n",
    "b. Which state has the highest per capita rate of TSPKs overall and what is it?\n",
    "c. Which state has the lowest per capita rate, and what is it?\n",
    "d. How do these numbers compare to the national per capita rate?\n",
    "\n",
    "Use race_eth_by_state_2020_census.csv (provided) to compute TSPKs per capita."
   ],
   "metadata": {
    "collapsed": false,
    "pycharm": {
     "name": "#%% md\n"
    }
   }
  },
  {
   "cell_type": "code",
   "execution_count": 346,
   "outputs": [
    {
     "data": {
      "text/plain": "race   Asian  Black  Hispanic  Native American  Pacific Islander  \\\nstate                                                              \nAK         0      0         0                2                 1   \nAL         0      6         1                0                 0   \nAR         1      6         0                0                 0   \nAZ         0      4        10                1                 0   \nCA         3     10        33                1                 1   \nCO         0      2         4                1                 0   \nCT         0      1         1                0                 0   \nDC         0      1         0                0                 0   \nDE         0      1         0                0                 0   \nFL         0     14         2                0                 0   \nGA         0     21         0                0                 0   \nHI         1      0         0                0                 2   \nIA         0      1         0                0                 0   \nID         0      1         1                0                 0   \nIL         0      6         4                0                 0   \nIN         0      8         0                0                 0   \nKS         0      1         1                0                 0   \nKY         0      2         0                0                 0   \nLA         0      7         0                0                 0   \nMA         1      0         1                0                 0   \nMD         0      3         2                0                 0   \nME         0      0         0                0                 0   \nMI         2      3         0                0                 0   \nMN         1      2         1                2                 0   \nMO         0      6         1                0                 0   \nMS         0      2         0                0                 0   \nMT         0      1         0                2                 0   \nNC         0      7         0                0                 0   \nND         0      0         0                1                 0   \nNE         0      1         0                0                 0   \nNH         0      0         0                0                 0   \nNJ         0      2         0                0                 0   \nNM         0      1         7                0                 0   \nNV         0      4         5                0                 0   \nNY         0      5         1                0                 0   \nOH         1      4         0                0                 0   \nOK         0      2         1                0                 0   \nOR         0      0         0                0                 0   \nPA         0      8         0                0                 0   \nSC         0      3         0                0                 0   \nSD         0      0         0                0                 0   \nTN         0      8         1                0                 0   \nTX         0     15        15                0                 0   \nUT         0      0         0                1                 0   \nVA         0      1         0                0                 0   \nVT         0      0         0                0                 0   \nWA         0      6         7                0                 2   \nWI         0      5         1                2                 0   \nWV         0      2         0                0                 0   \nWY         0      0         1                0                 0   \nTotal     10    183       101               13                 6   \n\nrace   Unknown race  White  Total  \nstate                              \nAK                0      1      4  \nAL                0      8     15  \nAR                3      5     15  \nAZ                3      5     23  \nCA               12     20     80  \nCO                3     16     26  \nCT                0      0      2  \nDC                0      0      1  \nDE                0      2      3  \nFL                1     13     30  \nGA                3     12     36  \nHI                0      0      3  \nIA                0      6      7  \nID                1      5      8  \nIL                1      0     11  \nIN                2      8     18  \nKS                0      3      5  \nKY                4     12     18  \nLA                0      7     14  \nMA                0      0      2  \nMD                0      1      6  \nME                0      1      1  \nMI                3      4     12  \nMN                0      4     10  \nMO                4     12     23  \nMS                2      5      9  \nMT                0      2      5  \nNC                0      7     14  \nND                0      1      2  \nNE                0      0      1  \nNH                0      2      2  \nNJ                1      0      3  \nNM                0      3     11  \nNV                1      3     13  \nNY                0      3      9  \nOH                3      8     16  \nOK                3     16     22  \nOR                1      2      3  \nPA                0      5     13  \nSC                4      5     12  \nSD                1      0      1  \nTN                3     11     23  \nTX                4     14     48  \nUT                0      5      6  \nVA                2      4      7  \nVT                0      1      1  \nWA                4      1     20  \nWI                2      7     17  \nWV                0      1      3  \nWY                0      2      3  \nTotal            71    253    637  ",
      "text/html": "<div>\n<style scoped>\n    .dataframe tbody tr th:only-of-type {\n        vertical-align: middle;\n    }\n\n    .dataframe tbody tr th {\n        vertical-align: top;\n    }\n\n    .dataframe thead th {\n        text-align: right;\n    }\n</style>\n<table border=\"1\" class=\"dataframe\">\n  <thead>\n    <tr style=\"text-align: right;\">\n      <th>race</th>\n      <th>Asian</th>\n      <th>Black</th>\n      <th>Hispanic</th>\n      <th>Native American</th>\n      <th>Pacific Islander</th>\n      <th>Unknown race</th>\n      <th>White</th>\n      <th>Total</th>\n    </tr>\n    <tr>\n      <th>state</th>\n      <th></th>\n      <th></th>\n      <th></th>\n      <th></th>\n      <th></th>\n      <th></th>\n      <th></th>\n      <th></th>\n    </tr>\n  </thead>\n  <tbody>\n    <tr>\n      <th>AK</th>\n      <td>0</td>\n      <td>0</td>\n      <td>0</td>\n      <td>2</td>\n      <td>1</td>\n      <td>0</td>\n      <td>1</td>\n      <td>4</td>\n    </tr>\n    <tr>\n      <th>AL</th>\n      <td>0</td>\n      <td>6</td>\n      <td>1</td>\n      <td>0</td>\n      <td>0</td>\n      <td>0</td>\n      <td>8</td>\n      <td>15</td>\n    </tr>\n    <tr>\n      <th>AR</th>\n      <td>1</td>\n      <td>6</td>\n      <td>0</td>\n      <td>0</td>\n      <td>0</td>\n      <td>3</td>\n      <td>5</td>\n      <td>15</td>\n    </tr>\n    <tr>\n      <th>AZ</th>\n      <td>0</td>\n      <td>4</td>\n      <td>10</td>\n      <td>1</td>\n      <td>0</td>\n      <td>3</td>\n      <td>5</td>\n      <td>23</td>\n    </tr>\n    <tr>\n      <th>CA</th>\n      <td>3</td>\n      <td>10</td>\n      <td>33</td>\n      <td>1</td>\n      <td>1</td>\n      <td>12</td>\n      <td>20</td>\n      <td>80</td>\n    </tr>\n    <tr>\n      <th>CO</th>\n      <td>0</td>\n      <td>2</td>\n      <td>4</td>\n      <td>1</td>\n      <td>0</td>\n      <td>3</td>\n      <td>16</td>\n      <td>26</td>\n    </tr>\n    <tr>\n      <th>CT</th>\n      <td>0</td>\n      <td>1</td>\n      <td>1</td>\n      <td>0</td>\n      <td>0</td>\n      <td>0</td>\n      <td>0</td>\n      <td>2</td>\n    </tr>\n    <tr>\n      <th>DC</th>\n      <td>0</td>\n      <td>1</td>\n      <td>0</td>\n      <td>0</td>\n      <td>0</td>\n      <td>0</td>\n      <td>0</td>\n      <td>1</td>\n    </tr>\n    <tr>\n      <th>DE</th>\n      <td>0</td>\n      <td>1</td>\n      <td>0</td>\n      <td>0</td>\n      <td>0</td>\n      <td>0</td>\n      <td>2</td>\n      <td>3</td>\n    </tr>\n    <tr>\n      <th>FL</th>\n      <td>0</td>\n      <td>14</td>\n      <td>2</td>\n      <td>0</td>\n      <td>0</td>\n      <td>1</td>\n      <td>13</td>\n      <td>30</td>\n    </tr>\n    <tr>\n      <th>GA</th>\n      <td>0</td>\n      <td>21</td>\n      <td>0</td>\n      <td>0</td>\n      <td>0</td>\n      <td>3</td>\n      <td>12</td>\n      <td>36</td>\n    </tr>\n    <tr>\n      <th>HI</th>\n      <td>1</td>\n      <td>0</td>\n      <td>0</td>\n      <td>0</td>\n      <td>2</td>\n      <td>0</td>\n      <td>0</td>\n      <td>3</td>\n    </tr>\n    <tr>\n      <th>IA</th>\n      <td>0</td>\n      <td>1</td>\n      <td>0</td>\n      <td>0</td>\n      <td>0</td>\n      <td>0</td>\n      <td>6</td>\n      <td>7</td>\n    </tr>\n    <tr>\n      <th>ID</th>\n      <td>0</td>\n      <td>1</td>\n      <td>1</td>\n      <td>0</td>\n      <td>0</td>\n      <td>1</td>\n      <td>5</td>\n      <td>8</td>\n    </tr>\n    <tr>\n      <th>IL</th>\n      <td>0</td>\n      <td>6</td>\n      <td>4</td>\n      <td>0</td>\n      <td>0</td>\n      <td>1</td>\n      <td>0</td>\n      <td>11</td>\n    </tr>\n    <tr>\n      <th>IN</th>\n      <td>0</td>\n      <td>8</td>\n      <td>0</td>\n      <td>0</td>\n      <td>0</td>\n      <td>2</td>\n      <td>8</td>\n      <td>18</td>\n    </tr>\n    <tr>\n      <th>KS</th>\n      <td>0</td>\n      <td>1</td>\n      <td>1</td>\n      <td>0</td>\n      <td>0</td>\n      <td>0</td>\n      <td>3</td>\n      <td>5</td>\n    </tr>\n    <tr>\n      <th>KY</th>\n      <td>0</td>\n      <td>2</td>\n      <td>0</td>\n      <td>0</td>\n      <td>0</td>\n      <td>4</td>\n      <td>12</td>\n      <td>18</td>\n    </tr>\n    <tr>\n      <th>LA</th>\n      <td>0</td>\n      <td>7</td>\n      <td>0</td>\n      <td>0</td>\n      <td>0</td>\n      <td>0</td>\n      <td>7</td>\n      <td>14</td>\n    </tr>\n    <tr>\n      <th>MA</th>\n      <td>1</td>\n      <td>0</td>\n      <td>1</td>\n      <td>0</td>\n      <td>0</td>\n      <td>0</td>\n      <td>0</td>\n      <td>2</td>\n    </tr>\n    <tr>\n      <th>MD</th>\n      <td>0</td>\n      <td>3</td>\n      <td>2</td>\n      <td>0</td>\n      <td>0</td>\n      <td>0</td>\n      <td>1</td>\n      <td>6</td>\n    </tr>\n    <tr>\n      <th>ME</th>\n      <td>0</td>\n      <td>0</td>\n      <td>0</td>\n      <td>0</td>\n      <td>0</td>\n      <td>0</td>\n      <td>1</td>\n      <td>1</td>\n    </tr>\n    <tr>\n      <th>MI</th>\n      <td>2</td>\n      <td>3</td>\n      <td>0</td>\n      <td>0</td>\n      <td>0</td>\n      <td>3</td>\n      <td>4</td>\n      <td>12</td>\n    </tr>\n    <tr>\n      <th>MN</th>\n      <td>1</td>\n      <td>2</td>\n      <td>1</td>\n      <td>2</td>\n      <td>0</td>\n      <td>0</td>\n      <td>4</td>\n      <td>10</td>\n    </tr>\n    <tr>\n      <th>MO</th>\n      <td>0</td>\n      <td>6</td>\n      <td>1</td>\n      <td>0</td>\n      <td>0</td>\n      <td>4</td>\n      <td>12</td>\n      <td>23</td>\n    </tr>\n    <tr>\n      <th>MS</th>\n      <td>0</td>\n      <td>2</td>\n      <td>0</td>\n      <td>0</td>\n      <td>0</td>\n      <td>2</td>\n      <td>5</td>\n      <td>9</td>\n    </tr>\n    <tr>\n      <th>MT</th>\n      <td>0</td>\n      <td>1</td>\n      <td>0</td>\n      <td>2</td>\n      <td>0</td>\n      <td>0</td>\n      <td>2</td>\n      <td>5</td>\n    </tr>\n    <tr>\n      <th>NC</th>\n      <td>0</td>\n      <td>7</td>\n      <td>0</td>\n      <td>0</td>\n      <td>0</td>\n      <td>0</td>\n      <td>7</td>\n      <td>14</td>\n    </tr>\n    <tr>\n      <th>ND</th>\n      <td>0</td>\n      <td>0</td>\n      <td>0</td>\n      <td>1</td>\n      <td>0</td>\n      <td>0</td>\n      <td>1</td>\n      <td>2</td>\n    </tr>\n    <tr>\n      <th>NE</th>\n      <td>0</td>\n      <td>1</td>\n      <td>0</td>\n      <td>0</td>\n      <td>0</td>\n      <td>0</td>\n      <td>0</td>\n      <td>1</td>\n    </tr>\n    <tr>\n      <th>NH</th>\n      <td>0</td>\n      <td>0</td>\n      <td>0</td>\n      <td>0</td>\n      <td>0</td>\n      <td>0</td>\n      <td>2</td>\n      <td>2</td>\n    </tr>\n    <tr>\n      <th>NJ</th>\n      <td>0</td>\n      <td>2</td>\n      <td>0</td>\n      <td>0</td>\n      <td>0</td>\n      <td>1</td>\n      <td>0</td>\n      <td>3</td>\n    </tr>\n    <tr>\n      <th>NM</th>\n      <td>0</td>\n      <td>1</td>\n      <td>7</td>\n      <td>0</td>\n      <td>0</td>\n      <td>0</td>\n      <td>3</td>\n      <td>11</td>\n    </tr>\n    <tr>\n      <th>NV</th>\n      <td>0</td>\n      <td>4</td>\n      <td>5</td>\n      <td>0</td>\n      <td>0</td>\n      <td>1</td>\n      <td>3</td>\n      <td>13</td>\n    </tr>\n    <tr>\n      <th>NY</th>\n      <td>0</td>\n      <td>5</td>\n      <td>1</td>\n      <td>0</td>\n      <td>0</td>\n      <td>0</td>\n      <td>3</td>\n      <td>9</td>\n    </tr>\n    <tr>\n      <th>OH</th>\n      <td>1</td>\n      <td>4</td>\n      <td>0</td>\n      <td>0</td>\n      <td>0</td>\n      <td>3</td>\n      <td>8</td>\n      <td>16</td>\n    </tr>\n    <tr>\n      <th>OK</th>\n      <td>0</td>\n      <td>2</td>\n      <td>1</td>\n      <td>0</td>\n      <td>0</td>\n      <td>3</td>\n      <td>16</td>\n      <td>22</td>\n    </tr>\n    <tr>\n      <th>OR</th>\n      <td>0</td>\n      <td>0</td>\n      <td>0</td>\n      <td>0</td>\n      <td>0</td>\n      <td>1</td>\n      <td>2</td>\n      <td>3</td>\n    </tr>\n    <tr>\n      <th>PA</th>\n      <td>0</td>\n      <td>8</td>\n      <td>0</td>\n      <td>0</td>\n      <td>0</td>\n      <td>0</td>\n      <td>5</td>\n      <td>13</td>\n    </tr>\n    <tr>\n      <th>SC</th>\n      <td>0</td>\n      <td>3</td>\n      <td>0</td>\n      <td>0</td>\n      <td>0</td>\n      <td>4</td>\n      <td>5</td>\n      <td>12</td>\n    </tr>\n    <tr>\n      <th>SD</th>\n      <td>0</td>\n      <td>0</td>\n      <td>0</td>\n      <td>0</td>\n      <td>0</td>\n      <td>1</td>\n      <td>0</td>\n      <td>1</td>\n    </tr>\n    <tr>\n      <th>TN</th>\n      <td>0</td>\n      <td>8</td>\n      <td>1</td>\n      <td>0</td>\n      <td>0</td>\n      <td>3</td>\n      <td>11</td>\n      <td>23</td>\n    </tr>\n    <tr>\n      <th>TX</th>\n      <td>0</td>\n      <td>15</td>\n      <td>15</td>\n      <td>0</td>\n      <td>0</td>\n      <td>4</td>\n      <td>14</td>\n      <td>48</td>\n    </tr>\n    <tr>\n      <th>UT</th>\n      <td>0</td>\n      <td>0</td>\n      <td>0</td>\n      <td>1</td>\n      <td>0</td>\n      <td>0</td>\n      <td>5</td>\n      <td>6</td>\n    </tr>\n    <tr>\n      <th>VA</th>\n      <td>0</td>\n      <td>1</td>\n      <td>0</td>\n      <td>0</td>\n      <td>0</td>\n      <td>2</td>\n      <td>4</td>\n      <td>7</td>\n    </tr>\n    <tr>\n      <th>VT</th>\n      <td>0</td>\n      <td>0</td>\n      <td>0</td>\n      <td>0</td>\n      <td>0</td>\n      <td>0</td>\n      <td>1</td>\n      <td>1</td>\n    </tr>\n    <tr>\n      <th>WA</th>\n      <td>0</td>\n      <td>6</td>\n      <td>7</td>\n      <td>0</td>\n      <td>2</td>\n      <td>4</td>\n      <td>1</td>\n      <td>20</td>\n    </tr>\n    <tr>\n      <th>WI</th>\n      <td>0</td>\n      <td>5</td>\n      <td>1</td>\n      <td>2</td>\n      <td>0</td>\n      <td>2</td>\n      <td>7</td>\n      <td>17</td>\n    </tr>\n    <tr>\n      <th>WV</th>\n      <td>0</td>\n      <td>2</td>\n      <td>0</td>\n      <td>0</td>\n      <td>0</td>\n      <td>0</td>\n      <td>1</td>\n      <td>3</td>\n    </tr>\n    <tr>\n      <th>WY</th>\n      <td>0</td>\n      <td>0</td>\n      <td>1</td>\n      <td>0</td>\n      <td>0</td>\n      <td>0</td>\n      <td>2</td>\n      <td>3</td>\n    </tr>\n    <tr>\n      <th>Total</th>\n      <td>10</td>\n      <td>183</td>\n      <td>101</td>\n      <td>13</td>\n      <td>6</td>\n      <td>71</td>\n      <td>253</td>\n      <td>637</td>\n    </tr>\n  </tbody>\n</table>\n</div>"
     },
     "execution_count": 346,
     "metadata": {},
     "output_type": "execute_result"
    }
   ],
   "source": [
    "tspk_abs = tspks.groupby(['state', 'race'])['name'].count().reset_index()\n",
    "tspk_abs = tspk_abs.rename(columns={ 'name': '# incidents'})\n",
    "\n",
    "tspk_abs = pd.pivot_table(tspk_abs, values='# incidents', index=['state'], columns='race', aggfunc=np.sum, fill_value=0)\n",
    "tspk_abs.loc[\"Total\"] = tspk_abs.sum()\n",
    "tspk_abs['Total'] = tspk_abs.sum(axis=1)\n",
    "tspk_abs\n",
    "\n",
    "# response time: 20 min\n",
    "# resources: https://pandas.pydata.org/docs/reference/api/pandas.pivot_table.html\n",
    "#            https://stackoverflow.com/questions/21752399/pandas-dataframe-total-row\n",
    "#            https://stackoverflow.com/questions/20804673/appending-column-totals-to-a-pandas-dataframe"
   ],
   "metadata": {
    "collapsed": false,
    "pycharm": {
     "name": "#%%\n"
    }
   }
  },
  {
   "cell_type": "code",
   "execution_count": 347,
   "outputs": [
    {
     "data": {
      "text/plain": "                                                          NAME      Total  \\\nGEO_ID                                                                      \n0400000US01                                            Alabama    5024279   \n0400000US02                                             Alaska     733391   \n0400000US04                                            Arizona    7151502   \n0400000US05                                           Arkansas    3011524   \n0400000US06                                         California   39538223   \n0400000US08                                           Colorado    5773714   \n0400000US09                                        Connecticut    3605944   \n0400000US10                                           Delaware     989948   \n0400000US11                               District of Columbia     689545   \n0400000US12                                            Florida   21538187   \n0400000US13                                            Georgia   10711908   \n0400000US15                                             Hawaii    1455271   \n0400000US16                                              Idaho    1839106   \n0400000US17                                           Illinois   12812508   \n0400000US18                                            Indiana    6785528   \n0400000US19                                               Iowa    3190369   \n0400000US20                                             Kansas    2937880   \n0400000US21                                           Kentucky    4505836   \n0400000US22                                          Louisiana    4657757   \n0400000US23                                              Maine    1362359   \n0400000US24                                           Maryland    6177224   \n0400000US25                                      Massachusetts    7029917   \n0400000US26                                           Michigan   10077331   \n0400000US27                                          Minnesota    5706494   \n0400000US28                                        Mississippi    2961279   \n0400000US29                                           Missouri    6154913   \n0400000US30                                            Montana    1084225   \n0400000US31                                           Nebraska    1961504   \n0400000US32                                             Nevada    3104614   \n0400000US33                                      New Hampshire    1377529   \n0400000US34                                         New Jersey    9288994   \n0400000US35                                         New Mexico    2117522   \n0400000US36                                           New York   20201249   \n0400000US37                                     North Carolina   10439388   \n0400000US38                                       North Dakota     779094   \n0400000US39                                               Ohio   11799448   \n0400000US40                                           Oklahoma    3959353   \n0400000US41                                             Oregon    4237256   \n0400000US42                                       Pennsylvania   13002700   \n0400000US44                                       Rhode Island    1097379   \n0400000US45                                     South Carolina    5118425   \n0400000US46                                       South Dakota     886667   \n0400000US47                                          Tennessee    6910840   \n0400000US48                                              Texas   29145505   \n0400000US49                                               Utah    3271616   \n0400000US50                                            Vermont     643077   \n0400000US51                                           Virginia    8631393   \n0400000US53                                         Washington    7705281   \n0400000US54                                      West Virginia    1793716   \n0400000US55                                          Wisconsin    5893718   \n0400000US56                                            Wyoming     576851   \n0400000US72                                        Puerto Rico    3285874   \nTotal        AlabamaAlaskaArizonaArkansasCaliforniaColorado...  334735155   \n\n             Hispanic      White     Black  Native American     Asian  \\\nGEO_ID                                                                  \n0400000US01    264047    3171351   1288159            23119     75918   \n0400000US02     49824     421758     20731           108838     43449   \n0400000US04   2192253    3816547    317161           263930    248837   \n0400000US05    256847    2063550    449884            20549     51210   \n0400000US06  15579652   13714587   2119286           156085   5978795   \n0400000US08   1263390    3760663    221310            33768    195220   \n0400000US09    623293    2279232    360937             6404    170459   \n0400000US10    104290     579851    212960             2521     42398   \n0400000US11     77652     261771    282066             1277     33192   \n0400000US12   5697240   11100503   3127052            42169    629626   \n0400000US13   1123457    5362156   3278119            20375    475680   \n0400000US15    138923     314365     21877             2321    531558   \n0400000US16    239407    1450523     14785            18903     26036   \n0400000US17   2337410    7472751   1775612            16561    747280   \n0400000US18    554191    5121004    637500            12938    166651   \n0400000US19    215986    2638201    129321             9079     75017   \n0400000US20    382603    2122575    163352            21921     85225   \n0400000US21    207854    3664764    357764             8080     73843   \n0400000US22    322549    2596702   1452420            25994     85336   \n0400000US23     26609    1228264     25115             7293     16668   \n0400000US24    729745    2913782   1795027            12055    417962   \n0400000US25    887685    4748897    457055             9387    504900   \n0400000US26    564422    7295651   1358458            47406    332288   \n0400000US27    345640    4353880    392850            57046    297460   \n0400000US28    105220    1639077   1079001            14019     32305   \n0400000US29    303068    4663907    692774            23496    132158   \n0400000US30     45199     901318      5077            64592      8077   \n0400000US31    234715    1484687     94405            15051     52359   \n0400000US32    890257    1425952    291960            23392    265991   \n0400000US33     59454    1200649     18655             2299     35604   \n0400000US34   2002575    4816381   1154142            11206    942921   \n0400000US35   1010811     772952     38330           188610     35261   \n0400000US36   3948032   10598907   2759022            54908   1916329   \n0400000US37   1118596    6312148   2107526           100886    340059   \n0400000US38     33412     636160     26152            37350     13050   \n0400000US39    521308    8954135   1457180            18949    296604   \n0400000US40    471931    2407188    283242           311890     89653   \n0400000US41    588757    3036158     78658            42042    191797   \n0400000US42   1049615    9553417   1368978            15028    506674   \n0400000US44    182101     754050     55386             3513     38367   \n0400000US45    352838    3178552   1269031            16591     89394   \n0400000US46     38741     705583     17441            74595     13332   \n0400000US47    479187    4900246   1083772            15539    134302   \n0400000US48  11441717   11584597   3444712            85425   1561518   \n0400000US49    492912    2465355     37192            28690     78618   \n0400000US50     15504     573201      8649             1986     11457   \n0400000US51    908749    5058363   1578090            19080    610612   \n0400000US53   1059213    4918820    296170            91191    723062   \n0400000US54     34827    1598834     64749             3187     14903   \n0400000US55    447290    4634018    366508            48384    174267   \n0400000US56     59046     469664      4735            11781      5037   \n0400000US72   3249043      24548      4286              312      2746   \nTotal        65329087  191722195  39944624          2252011  19621465   \n\n             Pacific Islander  Unknown race  \nGEO_ID                                       \n0400000US01              2612        199073  \n0400000US02             12455         76336  \n0400000US04             14323        298451  \n0400000US05             14280        155204  \n0400000US06            138167       1851651  \n0400000US08              9005        290358  \n0400000US09               974        164645  \n0400000US10               304         47624  \n0400000US11               349         33238  \n0400000US12             11521        930076  \n0400000US13              6101        446020  \n0400000US15            149054        297173  \n0400000US16              3401         86051  \n0400000US17              2959        459935  \n0400000US18              2761        290483  \n0400000US19              5605        117160  \n0400000US20              3115        159089  \n0400000US21              3462        190069  \n0400000US22              1706        173050  \n0400000US23               407         58003  \n0400000US24              2575        306078  \n0400000US25              1607        420386  \n0400000US26              2603        476503  \n0400000US27              2621        256997  \n0400000US28              1037         90620  \n0400000US29              9293        330217  \n0400000US30               839         59123  \n0400000US31              1318         78969  \n0400000US32             22970        184092  \n0400000US33               388         60480  \n0400000US34              1944        359825  \n0400000US35              1451         70107  \n0400000US36              6097        917954  \n0400000US37              6980        453193  \n0400000US38               869         32101  \n0400000US39              4493        546779  \n0400000US40              8168        387281  \n0400000US41             18197        281647  \n0400000US42              3162        505826  \n0400000US44               320         63642  \n0400000US45              3085        208934  \n0400000US46               493         36482  \n0400000US47              3594        294200  \n0400000US48             27857        999679  \n0400000US49             35831        133018  \n0400000US50               170         32110  \n0400000US51              6195        450304  \n0400000US53             62490        554335  \n0400000US54               429         76787  \n0400000US55              1892        221359  \n0400000US56               489         26099  \n0400000US72                91          4848  \nTotal                  622109      15243664  ",
      "text/html": "<div>\n<style scoped>\n    .dataframe tbody tr th:only-of-type {\n        vertical-align: middle;\n    }\n\n    .dataframe tbody tr th {\n        vertical-align: top;\n    }\n\n    .dataframe thead th {\n        text-align: right;\n    }\n</style>\n<table border=\"1\" class=\"dataframe\">\n  <thead>\n    <tr style=\"text-align: right;\">\n      <th></th>\n      <th>NAME</th>\n      <th>Total</th>\n      <th>Hispanic</th>\n      <th>White</th>\n      <th>Black</th>\n      <th>Native American</th>\n      <th>Asian</th>\n      <th>Pacific Islander</th>\n      <th>Unknown race</th>\n    </tr>\n    <tr>\n      <th>GEO_ID</th>\n      <th></th>\n      <th></th>\n      <th></th>\n      <th></th>\n      <th></th>\n      <th></th>\n      <th></th>\n      <th></th>\n      <th></th>\n    </tr>\n  </thead>\n  <tbody>\n    <tr>\n      <th>0400000US01</th>\n      <td>Alabama</td>\n      <td>5024279</td>\n      <td>264047</td>\n      <td>3171351</td>\n      <td>1288159</td>\n      <td>23119</td>\n      <td>75918</td>\n      <td>2612</td>\n      <td>199073</td>\n    </tr>\n    <tr>\n      <th>0400000US02</th>\n      <td>Alaska</td>\n      <td>733391</td>\n      <td>49824</td>\n      <td>421758</td>\n      <td>20731</td>\n      <td>108838</td>\n      <td>43449</td>\n      <td>12455</td>\n      <td>76336</td>\n    </tr>\n    <tr>\n      <th>0400000US04</th>\n      <td>Arizona</td>\n      <td>7151502</td>\n      <td>2192253</td>\n      <td>3816547</td>\n      <td>317161</td>\n      <td>263930</td>\n      <td>248837</td>\n      <td>14323</td>\n      <td>298451</td>\n    </tr>\n    <tr>\n      <th>0400000US05</th>\n      <td>Arkansas</td>\n      <td>3011524</td>\n      <td>256847</td>\n      <td>2063550</td>\n      <td>449884</td>\n      <td>20549</td>\n      <td>51210</td>\n      <td>14280</td>\n      <td>155204</td>\n    </tr>\n    <tr>\n      <th>0400000US06</th>\n      <td>California</td>\n      <td>39538223</td>\n      <td>15579652</td>\n      <td>13714587</td>\n      <td>2119286</td>\n      <td>156085</td>\n      <td>5978795</td>\n      <td>138167</td>\n      <td>1851651</td>\n    </tr>\n    <tr>\n      <th>0400000US08</th>\n      <td>Colorado</td>\n      <td>5773714</td>\n      <td>1263390</td>\n      <td>3760663</td>\n      <td>221310</td>\n      <td>33768</td>\n      <td>195220</td>\n      <td>9005</td>\n      <td>290358</td>\n    </tr>\n    <tr>\n      <th>0400000US09</th>\n      <td>Connecticut</td>\n      <td>3605944</td>\n      <td>623293</td>\n      <td>2279232</td>\n      <td>360937</td>\n      <td>6404</td>\n      <td>170459</td>\n      <td>974</td>\n      <td>164645</td>\n    </tr>\n    <tr>\n      <th>0400000US10</th>\n      <td>Delaware</td>\n      <td>989948</td>\n      <td>104290</td>\n      <td>579851</td>\n      <td>212960</td>\n      <td>2521</td>\n      <td>42398</td>\n      <td>304</td>\n      <td>47624</td>\n    </tr>\n    <tr>\n      <th>0400000US11</th>\n      <td>District of Columbia</td>\n      <td>689545</td>\n      <td>77652</td>\n      <td>261771</td>\n      <td>282066</td>\n      <td>1277</td>\n      <td>33192</td>\n      <td>349</td>\n      <td>33238</td>\n    </tr>\n    <tr>\n      <th>0400000US12</th>\n      <td>Florida</td>\n      <td>21538187</td>\n      <td>5697240</td>\n      <td>11100503</td>\n      <td>3127052</td>\n      <td>42169</td>\n      <td>629626</td>\n      <td>11521</td>\n      <td>930076</td>\n    </tr>\n    <tr>\n      <th>0400000US13</th>\n      <td>Georgia</td>\n      <td>10711908</td>\n      <td>1123457</td>\n      <td>5362156</td>\n      <td>3278119</td>\n      <td>20375</td>\n      <td>475680</td>\n      <td>6101</td>\n      <td>446020</td>\n    </tr>\n    <tr>\n      <th>0400000US15</th>\n      <td>Hawaii</td>\n      <td>1455271</td>\n      <td>138923</td>\n      <td>314365</td>\n      <td>21877</td>\n      <td>2321</td>\n      <td>531558</td>\n      <td>149054</td>\n      <td>297173</td>\n    </tr>\n    <tr>\n      <th>0400000US16</th>\n      <td>Idaho</td>\n      <td>1839106</td>\n      <td>239407</td>\n      <td>1450523</td>\n      <td>14785</td>\n      <td>18903</td>\n      <td>26036</td>\n      <td>3401</td>\n      <td>86051</td>\n    </tr>\n    <tr>\n      <th>0400000US17</th>\n      <td>Illinois</td>\n      <td>12812508</td>\n      <td>2337410</td>\n      <td>7472751</td>\n      <td>1775612</td>\n      <td>16561</td>\n      <td>747280</td>\n      <td>2959</td>\n      <td>459935</td>\n    </tr>\n    <tr>\n      <th>0400000US18</th>\n      <td>Indiana</td>\n      <td>6785528</td>\n      <td>554191</td>\n      <td>5121004</td>\n      <td>637500</td>\n      <td>12938</td>\n      <td>166651</td>\n      <td>2761</td>\n      <td>290483</td>\n    </tr>\n    <tr>\n      <th>0400000US19</th>\n      <td>Iowa</td>\n      <td>3190369</td>\n      <td>215986</td>\n      <td>2638201</td>\n      <td>129321</td>\n      <td>9079</td>\n      <td>75017</td>\n      <td>5605</td>\n      <td>117160</td>\n    </tr>\n    <tr>\n      <th>0400000US20</th>\n      <td>Kansas</td>\n      <td>2937880</td>\n      <td>382603</td>\n      <td>2122575</td>\n      <td>163352</td>\n      <td>21921</td>\n      <td>85225</td>\n      <td>3115</td>\n      <td>159089</td>\n    </tr>\n    <tr>\n      <th>0400000US21</th>\n      <td>Kentucky</td>\n      <td>4505836</td>\n      <td>207854</td>\n      <td>3664764</td>\n      <td>357764</td>\n      <td>8080</td>\n      <td>73843</td>\n      <td>3462</td>\n      <td>190069</td>\n    </tr>\n    <tr>\n      <th>0400000US22</th>\n      <td>Louisiana</td>\n      <td>4657757</td>\n      <td>322549</td>\n      <td>2596702</td>\n      <td>1452420</td>\n      <td>25994</td>\n      <td>85336</td>\n      <td>1706</td>\n      <td>173050</td>\n    </tr>\n    <tr>\n      <th>0400000US23</th>\n      <td>Maine</td>\n      <td>1362359</td>\n      <td>26609</td>\n      <td>1228264</td>\n      <td>25115</td>\n      <td>7293</td>\n      <td>16668</td>\n      <td>407</td>\n      <td>58003</td>\n    </tr>\n    <tr>\n      <th>0400000US24</th>\n      <td>Maryland</td>\n      <td>6177224</td>\n      <td>729745</td>\n      <td>2913782</td>\n      <td>1795027</td>\n      <td>12055</td>\n      <td>417962</td>\n      <td>2575</td>\n      <td>306078</td>\n    </tr>\n    <tr>\n      <th>0400000US25</th>\n      <td>Massachusetts</td>\n      <td>7029917</td>\n      <td>887685</td>\n      <td>4748897</td>\n      <td>457055</td>\n      <td>9387</td>\n      <td>504900</td>\n      <td>1607</td>\n      <td>420386</td>\n    </tr>\n    <tr>\n      <th>0400000US26</th>\n      <td>Michigan</td>\n      <td>10077331</td>\n      <td>564422</td>\n      <td>7295651</td>\n      <td>1358458</td>\n      <td>47406</td>\n      <td>332288</td>\n      <td>2603</td>\n      <td>476503</td>\n    </tr>\n    <tr>\n      <th>0400000US27</th>\n      <td>Minnesota</td>\n      <td>5706494</td>\n      <td>345640</td>\n      <td>4353880</td>\n      <td>392850</td>\n      <td>57046</td>\n      <td>297460</td>\n      <td>2621</td>\n      <td>256997</td>\n    </tr>\n    <tr>\n      <th>0400000US28</th>\n      <td>Mississippi</td>\n      <td>2961279</td>\n      <td>105220</td>\n      <td>1639077</td>\n      <td>1079001</td>\n      <td>14019</td>\n      <td>32305</td>\n      <td>1037</td>\n      <td>90620</td>\n    </tr>\n    <tr>\n      <th>0400000US29</th>\n      <td>Missouri</td>\n      <td>6154913</td>\n      <td>303068</td>\n      <td>4663907</td>\n      <td>692774</td>\n      <td>23496</td>\n      <td>132158</td>\n      <td>9293</td>\n      <td>330217</td>\n    </tr>\n    <tr>\n      <th>0400000US30</th>\n      <td>Montana</td>\n      <td>1084225</td>\n      <td>45199</td>\n      <td>901318</td>\n      <td>5077</td>\n      <td>64592</td>\n      <td>8077</td>\n      <td>839</td>\n      <td>59123</td>\n    </tr>\n    <tr>\n      <th>0400000US31</th>\n      <td>Nebraska</td>\n      <td>1961504</td>\n      <td>234715</td>\n      <td>1484687</td>\n      <td>94405</td>\n      <td>15051</td>\n      <td>52359</td>\n      <td>1318</td>\n      <td>78969</td>\n    </tr>\n    <tr>\n      <th>0400000US32</th>\n      <td>Nevada</td>\n      <td>3104614</td>\n      <td>890257</td>\n      <td>1425952</td>\n      <td>291960</td>\n      <td>23392</td>\n      <td>265991</td>\n      <td>22970</td>\n      <td>184092</td>\n    </tr>\n    <tr>\n      <th>0400000US33</th>\n      <td>New Hampshire</td>\n      <td>1377529</td>\n      <td>59454</td>\n      <td>1200649</td>\n      <td>18655</td>\n      <td>2299</td>\n      <td>35604</td>\n      <td>388</td>\n      <td>60480</td>\n    </tr>\n    <tr>\n      <th>0400000US34</th>\n      <td>New Jersey</td>\n      <td>9288994</td>\n      <td>2002575</td>\n      <td>4816381</td>\n      <td>1154142</td>\n      <td>11206</td>\n      <td>942921</td>\n      <td>1944</td>\n      <td>359825</td>\n    </tr>\n    <tr>\n      <th>0400000US35</th>\n      <td>New Mexico</td>\n      <td>2117522</td>\n      <td>1010811</td>\n      <td>772952</td>\n      <td>38330</td>\n      <td>188610</td>\n      <td>35261</td>\n      <td>1451</td>\n      <td>70107</td>\n    </tr>\n    <tr>\n      <th>0400000US36</th>\n      <td>New York</td>\n      <td>20201249</td>\n      <td>3948032</td>\n      <td>10598907</td>\n      <td>2759022</td>\n      <td>54908</td>\n      <td>1916329</td>\n      <td>6097</td>\n      <td>917954</td>\n    </tr>\n    <tr>\n      <th>0400000US37</th>\n      <td>North Carolina</td>\n      <td>10439388</td>\n      <td>1118596</td>\n      <td>6312148</td>\n      <td>2107526</td>\n      <td>100886</td>\n      <td>340059</td>\n      <td>6980</td>\n      <td>453193</td>\n    </tr>\n    <tr>\n      <th>0400000US38</th>\n      <td>North Dakota</td>\n      <td>779094</td>\n      <td>33412</td>\n      <td>636160</td>\n      <td>26152</td>\n      <td>37350</td>\n      <td>13050</td>\n      <td>869</td>\n      <td>32101</td>\n    </tr>\n    <tr>\n      <th>0400000US39</th>\n      <td>Ohio</td>\n      <td>11799448</td>\n      <td>521308</td>\n      <td>8954135</td>\n      <td>1457180</td>\n      <td>18949</td>\n      <td>296604</td>\n      <td>4493</td>\n      <td>546779</td>\n    </tr>\n    <tr>\n      <th>0400000US40</th>\n      <td>Oklahoma</td>\n      <td>3959353</td>\n      <td>471931</td>\n      <td>2407188</td>\n      <td>283242</td>\n      <td>311890</td>\n      <td>89653</td>\n      <td>8168</td>\n      <td>387281</td>\n    </tr>\n    <tr>\n      <th>0400000US41</th>\n      <td>Oregon</td>\n      <td>4237256</td>\n      <td>588757</td>\n      <td>3036158</td>\n      <td>78658</td>\n      <td>42042</td>\n      <td>191797</td>\n      <td>18197</td>\n      <td>281647</td>\n    </tr>\n    <tr>\n      <th>0400000US42</th>\n      <td>Pennsylvania</td>\n      <td>13002700</td>\n      <td>1049615</td>\n      <td>9553417</td>\n      <td>1368978</td>\n      <td>15028</td>\n      <td>506674</td>\n      <td>3162</td>\n      <td>505826</td>\n    </tr>\n    <tr>\n      <th>0400000US44</th>\n      <td>Rhode Island</td>\n      <td>1097379</td>\n      <td>182101</td>\n      <td>754050</td>\n      <td>55386</td>\n      <td>3513</td>\n      <td>38367</td>\n      <td>320</td>\n      <td>63642</td>\n    </tr>\n    <tr>\n      <th>0400000US45</th>\n      <td>South Carolina</td>\n      <td>5118425</td>\n      <td>352838</td>\n      <td>3178552</td>\n      <td>1269031</td>\n      <td>16591</td>\n      <td>89394</td>\n      <td>3085</td>\n      <td>208934</td>\n    </tr>\n    <tr>\n      <th>0400000US46</th>\n      <td>South Dakota</td>\n      <td>886667</td>\n      <td>38741</td>\n      <td>705583</td>\n      <td>17441</td>\n      <td>74595</td>\n      <td>13332</td>\n      <td>493</td>\n      <td>36482</td>\n    </tr>\n    <tr>\n      <th>0400000US47</th>\n      <td>Tennessee</td>\n      <td>6910840</td>\n      <td>479187</td>\n      <td>4900246</td>\n      <td>1083772</td>\n      <td>15539</td>\n      <td>134302</td>\n      <td>3594</td>\n      <td>294200</td>\n    </tr>\n    <tr>\n      <th>0400000US48</th>\n      <td>Texas</td>\n      <td>29145505</td>\n      <td>11441717</td>\n      <td>11584597</td>\n      <td>3444712</td>\n      <td>85425</td>\n      <td>1561518</td>\n      <td>27857</td>\n      <td>999679</td>\n    </tr>\n    <tr>\n      <th>0400000US49</th>\n      <td>Utah</td>\n      <td>3271616</td>\n      <td>492912</td>\n      <td>2465355</td>\n      <td>37192</td>\n      <td>28690</td>\n      <td>78618</td>\n      <td>35831</td>\n      <td>133018</td>\n    </tr>\n    <tr>\n      <th>0400000US50</th>\n      <td>Vermont</td>\n      <td>643077</td>\n      <td>15504</td>\n      <td>573201</td>\n      <td>8649</td>\n      <td>1986</td>\n      <td>11457</td>\n      <td>170</td>\n      <td>32110</td>\n    </tr>\n    <tr>\n      <th>0400000US51</th>\n      <td>Virginia</td>\n      <td>8631393</td>\n      <td>908749</td>\n      <td>5058363</td>\n      <td>1578090</td>\n      <td>19080</td>\n      <td>610612</td>\n      <td>6195</td>\n      <td>450304</td>\n    </tr>\n    <tr>\n      <th>0400000US53</th>\n      <td>Washington</td>\n      <td>7705281</td>\n      <td>1059213</td>\n      <td>4918820</td>\n      <td>296170</td>\n      <td>91191</td>\n      <td>723062</td>\n      <td>62490</td>\n      <td>554335</td>\n    </tr>\n    <tr>\n      <th>0400000US54</th>\n      <td>West Virginia</td>\n      <td>1793716</td>\n      <td>34827</td>\n      <td>1598834</td>\n      <td>64749</td>\n      <td>3187</td>\n      <td>14903</td>\n      <td>429</td>\n      <td>76787</td>\n    </tr>\n    <tr>\n      <th>0400000US55</th>\n      <td>Wisconsin</td>\n      <td>5893718</td>\n      <td>447290</td>\n      <td>4634018</td>\n      <td>366508</td>\n      <td>48384</td>\n      <td>174267</td>\n      <td>1892</td>\n      <td>221359</td>\n    </tr>\n    <tr>\n      <th>0400000US56</th>\n      <td>Wyoming</td>\n      <td>576851</td>\n      <td>59046</td>\n      <td>469664</td>\n      <td>4735</td>\n      <td>11781</td>\n      <td>5037</td>\n      <td>489</td>\n      <td>26099</td>\n    </tr>\n    <tr>\n      <th>0400000US72</th>\n      <td>Puerto Rico</td>\n      <td>3285874</td>\n      <td>3249043</td>\n      <td>24548</td>\n      <td>4286</td>\n      <td>312</td>\n      <td>2746</td>\n      <td>91</td>\n      <td>4848</td>\n    </tr>\n    <tr>\n      <th>Total</th>\n      <td>AlabamaAlaskaArizonaArkansasCaliforniaColorado...</td>\n      <td>334735155</td>\n      <td>65329087</td>\n      <td>191722195</td>\n      <td>39944624</td>\n      <td>2252011</td>\n      <td>19621465</td>\n      <td>622109</td>\n      <td>15243664</td>\n    </tr>\n  </tbody>\n</table>\n</div>"
     },
     "execution_count": 347,
     "metadata": {},
     "output_type": "execute_result"
    }
   ],
   "source": [
    "race_eth_by_state_2020_census = pd.read_csv('race_eth_by_state_2020_census.csv')\n",
    "race_eth_by_state_2020_census = race_eth_by_state_2020_census.drop(0).set_index('GEO_ID').apply(pd.to_numeric, errors='ignore')\n",
    "race_eth_by_state_2020_census = race_eth_by_state_2020_census.rename(columns={'ASIAN':'Asian', 'BLACK':'Black', 'HISPANIC':'Hispanic', 'WHITE':'White', 'NATIVE_AMERICAN':'Native American', 'PACIFIC_ISLANDER':'Pacific Islander', 'OTHER': 'Unknown race', 'TOTAL':'Total'})\n",
    "race_eth_by_state_2020_census.loc[\"Total\"] = race_eth_by_state_2020_census.sum()\n",
    "race_eth_by_state_2020_census"
   ],
   "metadata": {
    "collapsed": false,
    "pycharm": {
     "name": "#%%\n"
    }
   }
  },
  {
   "cell_type": "code",
   "execution_count": 348,
   "outputs": [],
   "source": [
    "state_codes = {\n",
    "    'WA': '53', 'DE': '10', 'DC': '11', 'WI': '55', 'WV': '54', 'HI': '15',\n",
    "    'FL': '12', 'WY': '56', 'PR': '72', 'NJ': '34', 'NM': '35', 'TX': '48',\n",
    "    'LA': '22', 'NC': '37', 'ND': '38', 'NE': '31', 'TN': '47', 'NY': '36',\n",
    "    'PA': '42', 'AK': '02', 'NV': '32', 'NH': '33', 'VA': '51', 'CO': '08',\n",
    "    'CA': '06', 'AL': '01', 'AR': '05', 'VT': '50', 'IL': '17', 'GA': '13',\n",
    "    'IN': '18', 'IA': '19', 'MA': '25', 'AZ': '04', 'ID': '16', 'CT': '09',\n",
    "    'ME': '23', 'MD': '24', 'OK': '40', 'OH': '39', 'UT': '49', 'MO': '29',\n",
    "    'MN': '27', 'MI': '26', 'RI': '44', 'KS': '20', 'MT': '30', 'MS': '28',\n",
    "    'SC': '45', 'KY': '21', 'OR': '41', 'SD': '46',\n",
    "}\n",
    "\n",
    "def get_population(state, race):\n",
    "    for item in race_eth_by_state_2020_census.index:\n",
    "        if item == 'Total':\n",
    "            return int(race_eth_by_state_2020_census.loc[item][race])\n",
    "        elif str(item)[-2:] == state_codes.get(state):\n",
    "            return int(race_eth_by_state_2020_census.loc[item][race])\n",
    "    return 0"
   ],
   "metadata": {
    "collapsed": false,
    "pycharm": {
     "name": "#%%\n"
    }
   }
  },
  {
   "cell_type": "code",
   "execution_count": 349,
   "outputs": [
    {
     "data": {
      "text/plain": "race      Asian      Black  Hispanic  Native American  Pacific Islander  \\\nstate                                                                     \nAK     0.000000   0.000000  0.000000         1.837593          8.028904   \nAL     0.000000   0.465781  0.378720         0.000000          0.000000   \nAR     1.952744   1.333677  0.000000         0.000000          0.000000   \nAZ     0.000000   1.261189  0.456152         0.378888          0.000000   \nCA     0.050177   0.471857  0.211815         0.640677          0.723762   \nCO     0.000000   0.903710  0.316608         2.961384          0.000000   \nCT     0.000000   0.277057  0.160438         0.000000          0.000000   \nDC     0.000000   0.354527  0.000000         0.000000          0.000000   \nDE     0.000000   0.469572  0.000000         0.000000          0.000000   \nFL     0.000000   0.447706  0.035105         0.000000          0.000000   \nGA     0.000000   0.640611  0.000000         0.000000          0.000000   \nHI     0.188126   0.000000  0.000000         0.000000          1.341796   \nIA     0.000000   0.773270  0.000000         0.000000          0.000000   \nID     0.000000   6.763612  0.417699         0.000000          0.000000   \nIL     0.000000   0.337912  0.171130         0.000000          0.000000   \nIN     0.000000   1.254902  0.000000         0.000000          0.000000   \nKS     0.000000   0.612175  0.261368         0.000000          0.000000   \nKY     0.000000   0.559028  0.000000         0.000000          0.000000   \nLA     0.000000   0.481954  0.000000         0.000000          0.000000   \nMA     0.198059   0.000000  0.112653         0.000000          0.000000   \nMD     0.000000   0.167128  0.274068         0.000000          0.000000   \nME     0.000000   0.000000  0.000000         0.000000          0.000000   \nMI     0.601888   0.220839  0.000000         0.000000          0.000000   \nMN     0.336180   0.509100  0.289318         3.505943          0.000000   \nMO     0.000000   0.866083  0.329959         0.000000          0.000000   \nMS     0.000000   0.185357  0.000000         0.000000          0.000000   \nMT     0.000000  19.696671  0.000000         3.096359          0.000000   \nNC     0.000000   0.332143  0.000000         0.000000          0.000000   \nND     0.000000   0.000000  0.000000         2.677376          0.000000   \nNE     0.000000   1.059266  0.000000         0.000000          0.000000   \nNH     0.000000   0.000000  0.000000         0.000000          0.000000   \nNJ     0.000000   0.173289  0.000000         0.000000          0.000000   \nNM     0.000000   2.608923  0.692513         0.000000          0.000000   \nNV     0.000000   1.370051  0.561636         0.000000          0.000000   \nNY     0.000000   0.181224  0.025329         0.000000          0.000000   \nOH     0.337150   0.274503  0.000000         0.000000          0.000000   \nOK     0.000000   0.706110  0.211895         0.000000          0.000000   \nOR     0.000000   0.000000  0.000000         0.000000          0.000000   \nPA     0.000000   0.584378  0.000000         0.000000          0.000000   \nSC     0.000000   0.236401  0.000000         0.000000          0.000000   \nSD     0.000000   0.000000  0.000000         0.000000          0.000000   \nTN     0.000000   0.738163  0.208687         0.000000          0.000000   \nTX     0.000000   0.435450  0.131099         0.000000          0.000000   \nUT     0.000000   0.000000  0.000000         3.485535          0.000000   \nVA     0.000000   0.063368  0.000000         0.000000          0.000000   \nVT     0.000000   0.000000  0.000000         0.000000          0.000000   \nWA     0.000000   2.025864  0.660868         0.000000          3.200512   \nWI     0.000000   1.364227  0.223569         4.133598          0.000000   \nWV     0.000000   3.088851  0.000000         0.000000          0.000000   \nWY     0.000000   0.000000  1.693595         0.000000          0.000000   \nTotal  0.050965   0.458134  0.154602         0.577262          0.964461   \n\nrace   Unknown race     White     Total  \nstate                                    \nAK         0.000000  0.237103  0.545412  \nAL         0.000000  0.252258  0.298550  \nAR         1.932940  0.242301  0.498087  \nAZ         1.005190  0.131008  0.321611  \nCA         0.648070  0.145830  0.202336  \nCO         1.033207  0.425457  0.450317  \nCT         0.000000  0.000000  0.055464  \nDC         0.000000  0.000000  0.145023  \nDE         0.000000  0.344916  0.303046  \nFL         0.107518  0.117112  0.139287  \nGA         0.672616  0.223791  0.336075  \nHI         0.000000  0.000000  0.206147  \nIA         0.000000  0.227428  0.219410  \nID         1.162102  0.344703  0.434994  \nIL         0.217422  0.000000  0.085854  \nIN         0.688508  0.156219  0.265270  \nKS         0.000000  0.141338  0.170191  \nKY         2.104499  0.327443  0.399482  \nLA         0.000000  0.269573  0.300574  \nMA         0.000000  0.000000  0.028450  \nMD         0.000000  0.034320  0.097131  \nME         0.000000  0.081416  0.073402  \nMI         0.629587  0.054827  0.119079  \nMN         0.000000  0.091872  0.175239  \nMO         1.211325  0.257295  0.373685  \nMS         2.207018  0.305050  0.303923  \nMT         0.000000  0.221897  0.461159  \nNC         0.000000  0.110897  0.134107  \nND         0.000000  0.157193  0.256708  \nNE         0.000000  0.000000  0.050981  \nNH         0.000000  0.166577  0.145188  \nNJ         0.277913  0.000000  0.032296  \nNM         0.000000  0.388122  0.519475  \nNV         0.543207  0.210386  0.418732  \nNY         0.000000  0.028305  0.044552  \nOH         0.548668  0.089344  0.135600  \nOK         0.774631  0.664676  0.555646  \nOR         0.355054  0.065873  0.070801  \nPA         0.000000  0.052337  0.099979  \nSC         1.914480  0.157304  0.234447  \nSD         2.741078  0.000000  0.112782  \nTN         1.019714  0.224479  0.332810  \nTX         0.400128  0.120850  0.164691  \nUT         0.000000  0.202811  0.183396  \nVA         0.444144  0.079077  0.081099  \nVT         0.000000  0.174459  0.155502  \nWA         0.721585  0.020330  0.259562  \nWI         0.903510  0.151057  0.288443  \nWV         0.000000  0.062546  0.167251  \nWY         0.000000  0.425836  0.520065  \nTotal      0.465767  0.131962  0.190300  ",
      "text/html": "<div>\n<style scoped>\n    .dataframe tbody tr th:only-of-type {\n        vertical-align: middle;\n    }\n\n    .dataframe tbody tr th {\n        vertical-align: top;\n    }\n\n    .dataframe thead th {\n        text-align: right;\n    }\n</style>\n<table border=\"1\" class=\"dataframe\">\n  <thead>\n    <tr style=\"text-align: right;\">\n      <th>race</th>\n      <th>Asian</th>\n      <th>Black</th>\n      <th>Hispanic</th>\n      <th>Native American</th>\n      <th>Pacific Islander</th>\n      <th>Unknown race</th>\n      <th>White</th>\n      <th>Total</th>\n    </tr>\n    <tr>\n      <th>state</th>\n      <th></th>\n      <th></th>\n      <th></th>\n      <th></th>\n      <th></th>\n      <th></th>\n      <th></th>\n      <th></th>\n    </tr>\n  </thead>\n  <tbody>\n    <tr>\n      <th>AK</th>\n      <td>0.000000</td>\n      <td>0.000000</td>\n      <td>0.000000</td>\n      <td>1.837593</td>\n      <td>8.028904</td>\n      <td>0.000000</td>\n      <td>0.237103</td>\n      <td>0.545412</td>\n    </tr>\n    <tr>\n      <th>AL</th>\n      <td>0.000000</td>\n      <td>0.465781</td>\n      <td>0.378720</td>\n      <td>0.000000</td>\n      <td>0.000000</td>\n      <td>0.000000</td>\n      <td>0.252258</td>\n      <td>0.298550</td>\n    </tr>\n    <tr>\n      <th>AR</th>\n      <td>1.952744</td>\n      <td>1.333677</td>\n      <td>0.000000</td>\n      <td>0.000000</td>\n      <td>0.000000</td>\n      <td>1.932940</td>\n      <td>0.242301</td>\n      <td>0.498087</td>\n    </tr>\n    <tr>\n      <th>AZ</th>\n      <td>0.000000</td>\n      <td>1.261189</td>\n      <td>0.456152</td>\n      <td>0.378888</td>\n      <td>0.000000</td>\n      <td>1.005190</td>\n      <td>0.131008</td>\n      <td>0.321611</td>\n    </tr>\n    <tr>\n      <th>CA</th>\n      <td>0.050177</td>\n      <td>0.471857</td>\n      <td>0.211815</td>\n      <td>0.640677</td>\n      <td>0.723762</td>\n      <td>0.648070</td>\n      <td>0.145830</td>\n      <td>0.202336</td>\n    </tr>\n    <tr>\n      <th>CO</th>\n      <td>0.000000</td>\n      <td>0.903710</td>\n      <td>0.316608</td>\n      <td>2.961384</td>\n      <td>0.000000</td>\n      <td>1.033207</td>\n      <td>0.425457</td>\n      <td>0.450317</td>\n    </tr>\n    <tr>\n      <th>CT</th>\n      <td>0.000000</td>\n      <td>0.277057</td>\n      <td>0.160438</td>\n      <td>0.000000</td>\n      <td>0.000000</td>\n      <td>0.000000</td>\n      <td>0.000000</td>\n      <td>0.055464</td>\n    </tr>\n    <tr>\n      <th>DC</th>\n      <td>0.000000</td>\n      <td>0.354527</td>\n      <td>0.000000</td>\n      <td>0.000000</td>\n      <td>0.000000</td>\n      <td>0.000000</td>\n      <td>0.000000</td>\n      <td>0.145023</td>\n    </tr>\n    <tr>\n      <th>DE</th>\n      <td>0.000000</td>\n      <td>0.469572</td>\n      <td>0.000000</td>\n      <td>0.000000</td>\n      <td>0.000000</td>\n      <td>0.000000</td>\n      <td>0.344916</td>\n      <td>0.303046</td>\n    </tr>\n    <tr>\n      <th>FL</th>\n      <td>0.000000</td>\n      <td>0.447706</td>\n      <td>0.035105</td>\n      <td>0.000000</td>\n      <td>0.000000</td>\n      <td>0.107518</td>\n      <td>0.117112</td>\n      <td>0.139287</td>\n    </tr>\n    <tr>\n      <th>GA</th>\n      <td>0.000000</td>\n      <td>0.640611</td>\n      <td>0.000000</td>\n      <td>0.000000</td>\n      <td>0.000000</td>\n      <td>0.672616</td>\n      <td>0.223791</td>\n      <td>0.336075</td>\n    </tr>\n    <tr>\n      <th>HI</th>\n      <td>0.188126</td>\n      <td>0.000000</td>\n      <td>0.000000</td>\n      <td>0.000000</td>\n      <td>1.341796</td>\n      <td>0.000000</td>\n      <td>0.000000</td>\n      <td>0.206147</td>\n    </tr>\n    <tr>\n      <th>IA</th>\n      <td>0.000000</td>\n      <td>0.773270</td>\n      <td>0.000000</td>\n      <td>0.000000</td>\n      <td>0.000000</td>\n      <td>0.000000</td>\n      <td>0.227428</td>\n      <td>0.219410</td>\n    </tr>\n    <tr>\n      <th>ID</th>\n      <td>0.000000</td>\n      <td>6.763612</td>\n      <td>0.417699</td>\n      <td>0.000000</td>\n      <td>0.000000</td>\n      <td>1.162102</td>\n      <td>0.344703</td>\n      <td>0.434994</td>\n    </tr>\n    <tr>\n      <th>IL</th>\n      <td>0.000000</td>\n      <td>0.337912</td>\n      <td>0.171130</td>\n      <td>0.000000</td>\n      <td>0.000000</td>\n      <td>0.217422</td>\n      <td>0.000000</td>\n      <td>0.085854</td>\n    </tr>\n    <tr>\n      <th>IN</th>\n      <td>0.000000</td>\n      <td>1.254902</td>\n      <td>0.000000</td>\n      <td>0.000000</td>\n      <td>0.000000</td>\n      <td>0.688508</td>\n      <td>0.156219</td>\n      <td>0.265270</td>\n    </tr>\n    <tr>\n      <th>KS</th>\n      <td>0.000000</td>\n      <td>0.612175</td>\n      <td>0.261368</td>\n      <td>0.000000</td>\n      <td>0.000000</td>\n      <td>0.000000</td>\n      <td>0.141338</td>\n      <td>0.170191</td>\n    </tr>\n    <tr>\n      <th>KY</th>\n      <td>0.000000</td>\n      <td>0.559028</td>\n      <td>0.000000</td>\n      <td>0.000000</td>\n      <td>0.000000</td>\n      <td>2.104499</td>\n      <td>0.327443</td>\n      <td>0.399482</td>\n    </tr>\n    <tr>\n      <th>LA</th>\n      <td>0.000000</td>\n      <td>0.481954</td>\n      <td>0.000000</td>\n      <td>0.000000</td>\n      <td>0.000000</td>\n      <td>0.000000</td>\n      <td>0.269573</td>\n      <td>0.300574</td>\n    </tr>\n    <tr>\n      <th>MA</th>\n      <td>0.198059</td>\n      <td>0.000000</td>\n      <td>0.112653</td>\n      <td>0.000000</td>\n      <td>0.000000</td>\n      <td>0.000000</td>\n      <td>0.000000</td>\n      <td>0.028450</td>\n    </tr>\n    <tr>\n      <th>MD</th>\n      <td>0.000000</td>\n      <td>0.167128</td>\n      <td>0.274068</td>\n      <td>0.000000</td>\n      <td>0.000000</td>\n      <td>0.000000</td>\n      <td>0.034320</td>\n      <td>0.097131</td>\n    </tr>\n    <tr>\n      <th>ME</th>\n      <td>0.000000</td>\n      <td>0.000000</td>\n      <td>0.000000</td>\n      <td>0.000000</td>\n      <td>0.000000</td>\n      <td>0.000000</td>\n      <td>0.081416</td>\n      <td>0.073402</td>\n    </tr>\n    <tr>\n      <th>MI</th>\n      <td>0.601888</td>\n      <td>0.220839</td>\n      <td>0.000000</td>\n      <td>0.000000</td>\n      <td>0.000000</td>\n      <td>0.629587</td>\n      <td>0.054827</td>\n      <td>0.119079</td>\n    </tr>\n    <tr>\n      <th>MN</th>\n      <td>0.336180</td>\n      <td>0.509100</td>\n      <td>0.289318</td>\n      <td>3.505943</td>\n      <td>0.000000</td>\n      <td>0.000000</td>\n      <td>0.091872</td>\n      <td>0.175239</td>\n    </tr>\n    <tr>\n      <th>MO</th>\n      <td>0.000000</td>\n      <td>0.866083</td>\n      <td>0.329959</td>\n      <td>0.000000</td>\n      <td>0.000000</td>\n      <td>1.211325</td>\n      <td>0.257295</td>\n      <td>0.373685</td>\n    </tr>\n    <tr>\n      <th>MS</th>\n      <td>0.000000</td>\n      <td>0.185357</td>\n      <td>0.000000</td>\n      <td>0.000000</td>\n      <td>0.000000</td>\n      <td>2.207018</td>\n      <td>0.305050</td>\n      <td>0.303923</td>\n    </tr>\n    <tr>\n      <th>MT</th>\n      <td>0.000000</td>\n      <td>19.696671</td>\n      <td>0.000000</td>\n      <td>3.096359</td>\n      <td>0.000000</td>\n      <td>0.000000</td>\n      <td>0.221897</td>\n      <td>0.461159</td>\n    </tr>\n    <tr>\n      <th>NC</th>\n      <td>0.000000</td>\n      <td>0.332143</td>\n      <td>0.000000</td>\n      <td>0.000000</td>\n      <td>0.000000</td>\n      <td>0.000000</td>\n      <td>0.110897</td>\n      <td>0.134107</td>\n    </tr>\n    <tr>\n      <th>ND</th>\n      <td>0.000000</td>\n      <td>0.000000</td>\n      <td>0.000000</td>\n      <td>2.677376</td>\n      <td>0.000000</td>\n      <td>0.000000</td>\n      <td>0.157193</td>\n      <td>0.256708</td>\n    </tr>\n    <tr>\n      <th>NE</th>\n      <td>0.000000</td>\n      <td>1.059266</td>\n      <td>0.000000</td>\n      <td>0.000000</td>\n      <td>0.000000</td>\n      <td>0.000000</td>\n      <td>0.000000</td>\n      <td>0.050981</td>\n    </tr>\n    <tr>\n      <th>NH</th>\n      <td>0.000000</td>\n      <td>0.000000</td>\n      <td>0.000000</td>\n      <td>0.000000</td>\n      <td>0.000000</td>\n      <td>0.000000</td>\n      <td>0.166577</td>\n      <td>0.145188</td>\n    </tr>\n    <tr>\n      <th>NJ</th>\n      <td>0.000000</td>\n      <td>0.173289</td>\n      <td>0.000000</td>\n      <td>0.000000</td>\n      <td>0.000000</td>\n      <td>0.277913</td>\n      <td>0.000000</td>\n      <td>0.032296</td>\n    </tr>\n    <tr>\n      <th>NM</th>\n      <td>0.000000</td>\n      <td>2.608923</td>\n      <td>0.692513</td>\n      <td>0.000000</td>\n      <td>0.000000</td>\n      <td>0.000000</td>\n      <td>0.388122</td>\n      <td>0.519475</td>\n    </tr>\n    <tr>\n      <th>NV</th>\n      <td>0.000000</td>\n      <td>1.370051</td>\n      <td>0.561636</td>\n      <td>0.000000</td>\n      <td>0.000000</td>\n      <td>0.543207</td>\n      <td>0.210386</td>\n      <td>0.418732</td>\n    </tr>\n    <tr>\n      <th>NY</th>\n      <td>0.000000</td>\n      <td>0.181224</td>\n      <td>0.025329</td>\n      <td>0.000000</td>\n      <td>0.000000</td>\n      <td>0.000000</td>\n      <td>0.028305</td>\n      <td>0.044552</td>\n    </tr>\n    <tr>\n      <th>OH</th>\n      <td>0.337150</td>\n      <td>0.274503</td>\n      <td>0.000000</td>\n      <td>0.000000</td>\n      <td>0.000000</td>\n      <td>0.548668</td>\n      <td>0.089344</td>\n      <td>0.135600</td>\n    </tr>\n    <tr>\n      <th>OK</th>\n      <td>0.000000</td>\n      <td>0.706110</td>\n      <td>0.211895</td>\n      <td>0.000000</td>\n      <td>0.000000</td>\n      <td>0.774631</td>\n      <td>0.664676</td>\n      <td>0.555646</td>\n    </tr>\n    <tr>\n      <th>OR</th>\n      <td>0.000000</td>\n      <td>0.000000</td>\n      <td>0.000000</td>\n      <td>0.000000</td>\n      <td>0.000000</td>\n      <td>0.355054</td>\n      <td>0.065873</td>\n      <td>0.070801</td>\n    </tr>\n    <tr>\n      <th>PA</th>\n      <td>0.000000</td>\n      <td>0.584378</td>\n      <td>0.000000</td>\n      <td>0.000000</td>\n      <td>0.000000</td>\n      <td>0.000000</td>\n      <td>0.052337</td>\n      <td>0.099979</td>\n    </tr>\n    <tr>\n      <th>SC</th>\n      <td>0.000000</td>\n      <td>0.236401</td>\n      <td>0.000000</td>\n      <td>0.000000</td>\n      <td>0.000000</td>\n      <td>1.914480</td>\n      <td>0.157304</td>\n      <td>0.234447</td>\n    </tr>\n    <tr>\n      <th>SD</th>\n      <td>0.000000</td>\n      <td>0.000000</td>\n      <td>0.000000</td>\n      <td>0.000000</td>\n      <td>0.000000</td>\n      <td>2.741078</td>\n      <td>0.000000</td>\n      <td>0.112782</td>\n    </tr>\n    <tr>\n      <th>TN</th>\n      <td>0.000000</td>\n      <td>0.738163</td>\n      <td>0.208687</td>\n      <td>0.000000</td>\n      <td>0.000000</td>\n      <td>1.019714</td>\n      <td>0.224479</td>\n      <td>0.332810</td>\n    </tr>\n    <tr>\n      <th>TX</th>\n      <td>0.000000</td>\n      <td>0.435450</td>\n      <td>0.131099</td>\n      <td>0.000000</td>\n      <td>0.000000</td>\n      <td>0.400128</td>\n      <td>0.120850</td>\n      <td>0.164691</td>\n    </tr>\n    <tr>\n      <th>UT</th>\n      <td>0.000000</td>\n      <td>0.000000</td>\n      <td>0.000000</td>\n      <td>3.485535</td>\n      <td>0.000000</td>\n      <td>0.000000</td>\n      <td>0.202811</td>\n      <td>0.183396</td>\n    </tr>\n    <tr>\n      <th>VA</th>\n      <td>0.000000</td>\n      <td>0.063368</td>\n      <td>0.000000</td>\n      <td>0.000000</td>\n      <td>0.000000</td>\n      <td>0.444144</td>\n      <td>0.079077</td>\n      <td>0.081099</td>\n    </tr>\n    <tr>\n      <th>VT</th>\n      <td>0.000000</td>\n      <td>0.000000</td>\n      <td>0.000000</td>\n      <td>0.000000</td>\n      <td>0.000000</td>\n      <td>0.000000</td>\n      <td>0.174459</td>\n      <td>0.155502</td>\n    </tr>\n    <tr>\n      <th>WA</th>\n      <td>0.000000</td>\n      <td>2.025864</td>\n      <td>0.660868</td>\n      <td>0.000000</td>\n      <td>3.200512</td>\n      <td>0.721585</td>\n      <td>0.020330</td>\n      <td>0.259562</td>\n    </tr>\n    <tr>\n      <th>WI</th>\n      <td>0.000000</td>\n      <td>1.364227</td>\n      <td>0.223569</td>\n      <td>4.133598</td>\n      <td>0.000000</td>\n      <td>0.903510</td>\n      <td>0.151057</td>\n      <td>0.288443</td>\n    </tr>\n    <tr>\n      <th>WV</th>\n      <td>0.000000</td>\n      <td>3.088851</td>\n      <td>0.000000</td>\n      <td>0.000000</td>\n      <td>0.000000</td>\n      <td>0.000000</td>\n      <td>0.062546</td>\n      <td>0.167251</td>\n    </tr>\n    <tr>\n      <th>WY</th>\n      <td>0.000000</td>\n      <td>0.000000</td>\n      <td>1.693595</td>\n      <td>0.000000</td>\n      <td>0.000000</td>\n      <td>0.000000</td>\n      <td>0.425836</td>\n      <td>0.520065</td>\n    </tr>\n    <tr>\n      <th>Total</th>\n      <td>0.050965</td>\n      <td>0.458134</td>\n      <td>0.154602</td>\n      <td>0.577262</td>\n      <td>0.964461</td>\n      <td>0.465767</td>\n      <td>0.131962</td>\n      <td>0.190300</td>\n    </tr>\n  </tbody>\n</table>\n</div>"
     },
     "execution_count": 349,
     "metadata": {},
     "output_type": "execute_result"
    }
   ],
   "source": [
    "tspk_percap = tspk_abs.copy().astype('float')\n",
    "for col in tspk_percap.columns:\n",
    "    for row in tspk_percap.index:\n",
    "        tspk_percap._set_value(row, col, tspk_percap.loc[[row]][col][0] / get_population(row, col) * 100000)\n",
    "        # Taking into account that the values are very small, I have multiplied them by 100,000 to make them easier to read.\n",
    "\n",
    "tspk_percap\n",
    "\n",
    "# response time: 35 min\n",
    "# resources: https://gist.github.com/wavded/1250983/bf7c1c08f7b1596ca10822baeb8049d7350b0a4b\n",
    "#            https://www.indeed.com/career-advice/career-development/how-to-calculate-per-capita"
   ],
   "metadata": {
    "collapsed": false,
    "pycharm": {
     "name": "#%%\n"
    }
   }
  },
  {
   "cell_type": "markdown",
   "source": [
    "### a. Create the two tables as tspk_abs.csv and tspk_percap.csv.\n"
   ],
   "metadata": {
    "collapsed": false,
    "pycharm": {
     "name": "#%% md\n"
    }
   }
  },
  {
   "cell_type": "code",
   "execution_count": 350,
   "outputs": [],
   "source": [
    "tspk_abs.to_csv('tspk_abs.csv')\n",
    "tspk_percap.to_csv(\"tspk_percap.csv\")"
   ],
   "metadata": {
    "collapsed": false,
    "pycharm": {
     "name": "#%%\n"
    }
   }
  },
  {
   "cell_type": "markdown",
   "source": [
    "### b. Which state has the highest per capita rate of TSPKs overall and what is it?"
   ],
   "metadata": {
    "collapsed": false,
    "pycharm": {
     "name": "#%% md\n"
    }
   }
  },
  {
   "cell_type": "code",
   "execution_count": 351,
   "outputs": [
    {
     "data": {
      "text/plain": "state\nOK    0.555646\nName: Total, dtype: float64"
     },
     "execution_count": 351,
     "metadata": {},
     "output_type": "execute_result"
    }
   ],
   "source": [
    "highest = tspk_percap.sort_values(by='Total', ascending=False).iloc[:1]\n",
    "highest['Total']"
   ],
   "metadata": {
    "collapsed": false,
    "pycharm": {
     "name": "#%%\n"
    }
   }
  },
  {
   "cell_type": "markdown",
   "source": [
    "### c. Which state has the lowest per capita rate, and what is it?"
   ],
   "metadata": {
    "collapsed": false,
    "pycharm": {
     "name": "#%% md\n"
    }
   }
  },
  {
   "cell_type": "code",
   "execution_count": 352,
   "outputs": [
    {
     "data": {
      "text/plain": "state\nMA    0.02845\nName: Total, dtype: float64"
     },
     "execution_count": 352,
     "metadata": {},
     "output_type": "execute_result"
    }
   ],
   "source": [
    "lowest = tspk_percap.sort_values(by='Total').iloc[:1]\n",
    "lowest['Total']"
   ],
   "metadata": {
    "collapsed": false,
    "pycharm": {
     "name": "#%%\n"
    }
   }
  },
  {
   "cell_type": "markdown",
   "source": [
    "#### d. How do these numbers compare to the national per capita rate?"
   ],
   "metadata": {
    "collapsed": false,
    "pycharm": {
     "name": "#%% md\n"
    }
   }
  },
  {
   "cell_type": "code",
   "execution_count": 353,
   "outputs": [
    {
     "name": "stdout",
     "output_type": "stream",
     "text": [
      "The highest per capita state is  191.98% % more compare to the national rate of TSPKs\n"
     ]
    }
   ],
   "source": [
    "print('The highest per capita state is ',\"{0:.2%}\".format(highest['Total'][0]/ tspk_percap['Total'][-1]-1),'% more compare to the national rate of TSPKs')"
   ],
   "metadata": {
    "collapsed": false,
    "pycharm": {
     "name": "#%%\n"
    }
   }
  },
  {
   "cell_type": "code",
   "execution_count": 354,
   "outputs": [
    {
     "name": "stdout",
     "output_type": "stream",
     "text": [
      "The lowest per capita state is  -85.05% % less compare to the national rate of TSPKs\n"
     ]
    }
   ],
   "source": [
    "print('The lowest per capita state is ',\"{0:.2%}\".format(lowest['Total'][0]/ tspk_percap['Total'][-1]-1),'% less compare to the national rate of TSPKs')"
   ],
   "metadata": {
    "collapsed": false,
    "pycharm": {
     "name": "#%%\n"
    }
   }
  },
  {
   "cell_type": "markdown",
   "source": [
    "## Part 4\n",
    " Do you have any concerns about the data used to generate the results in Parts 1-3? If so, what are they?\n",
    "\n",
    "To find the proportion I have divided the TSPKs by the total length of the dataset 'police_killings', however I have found a high value of null values in this column. If I determined the proportion based only on the non-null records in the ''encounter_type' column the value would change to:\n",
    "\n",
    "Response time: 10 min"
   ],
   "metadata": {
    "collapsed": false,
    "pycharm": {
     "name": "#%% md\n"
    }
   }
  },
  {
   "cell_type": "code",
   "execution_count": 355,
   "outputs": [
    {
     "name": "stdout",
     "output_type": "stream",
     "text": [
      "Nulls in 'encounter_type' column:  4524\n",
      "Proportion TSPKs/PoliceKillings = 11.06%\n"
     ]
    }
   ],
   "source": [
    "print(\"Nulls in 'encounter_type' column: \", len(police_killings[police_killings['encounter_type'].isnull()]))\n",
    "\n",
    "proportion_tspks = len(tspks) / (len(police_killings) - len(police_killings[police_killings['encounter_type'].isnull()]))\n",
    "print('Proportion TSPKs/PoliceKillings =', \"{0:.2%}\".format(proportion_tspks))"
   ],
   "metadata": {
    "collapsed": false,
    "pycharm": {
     "name": "#%%\n"
    }
   }
  },
  {
   "cell_type": "markdown",
   "source": [
    "# Part 5\n",
    "We just noticed some agency_responsible fields were not input correctly. Some entries have trailing spaces, and some fields have multiple agencies entered, separated by a comma. This may have impacted the answers we got in Part 2.\n",
    "\n",
    "Write a script that re-computes the top 3 agencies and their TSPK counts, correcting for these data entry issues, and attach it with the rest of your code and answers.\n"
   ],
   "metadata": {
    "collapsed": false,
    "pycharm": {
     "name": "#%% md\n"
    }
   }
  },
  {
   "cell_type": "code",
   "execution_count": 356,
   "outputs": [
    {
     "data": {
      "text/plain": "Georgia State Patrol                       12\nCalifornia Highway Patrol                  10\nLos Angeles County Sheriff's Department     8\nName: # incidents, dtype: int64"
     },
     "execution_count": 356,
     "metadata": {},
     "output_type": "execute_result"
    }
   ],
   "source": [
    "agencies = []\n",
    "for item in tspks['agency_responsible']:\n",
    "    agencies += str(item).strip().replace('\"',\"\").split(\",\")\n",
    "\n",
    "top_agencies =  pd.Series(agencies)\n",
    "top_agencies = top_agencies.groupby(agencies).count()\n",
    "top_agencies = top_agencies.rename('# incidents')\n",
    "top_agencies.sort_values(ascending=False)[:3]\n",
    "\n",
    "# response time: 15 min"
   ],
   "metadata": {
    "collapsed": false,
    "pycharm": {
     "name": "#%%\n"
    }
   }
  },
  {
   "cell_type": "markdown",
   "source": [
    "#### Does making this correction change the answer in Part 2?\n",
    "\n",
    "Yes, Now Georgia State Patrol is listed first. Followed by California Highway Patrol and Arizona Department of Public Safety."
   ],
   "metadata": {
    "collapsed": false,
    "pycharm": {
     "name": "#%% md\n"
    }
   }
  },
  {
   "cell_type": "code",
   "execution_count": null,
   "outputs": [],
   "source": [],
   "metadata": {
    "collapsed": false,
    "pycharm": {
     "name": "#%%\n"
    }
   }
  }
 ],
 "metadata": {
  "kernelspec": {
   "display_name": "Python 3",
   "language": "python",
   "name": "python3"
  },
  "language_info": {
   "codemirror_mode": {
    "name": "ipython",
    "version": 2
   },
   "file_extension": ".py",
   "mimetype": "text/x-python",
   "name": "python",
   "nbconvert_exporter": "python",
   "pygments_lexer": "ipython2",
   "version": "2.7.6"
  }
 },
 "nbformat": 4,
 "nbformat_minor": 0
}